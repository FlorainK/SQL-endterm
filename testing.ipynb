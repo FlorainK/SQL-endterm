{
 "cells": [
  {
   "cell_type": "code",
   "execution_count": 52,
   "metadata": {},
   "outputs": [
    {
     "name": "stdout",
     "output_type": "stream",
     "text": [
      "(1, 6.5, 1, 5023.93, 6279.91, NULL, True ), -- stock_id: 1\n",
      "(2, 3.2, 1, 3448.57, 4310.71, NULL, True ), -- stock_id: 2\n",
      "(3, 3.2, 1, 1681.42, 2101.78, NULL, True ), -- stock_id: 3\n",
      "(3, 6.3, 1, 9580.67, 11975.84, NULL, True ), -- stock_id: 4\n",
      "(4, 9.0, 1, 6174.97, 7718.71, NULL, True ), -- stock_id: 5\n",
      "(4, 3.7, 1, 7650.70, 9563.38, NULL, True ), -- stock_id: 6\n",
      "(5, 10.0, 1, 2012.67, 2515.84, NULL, True ), -- stock_id: 7\n",
      "(6, 0.3, 1, 9121.51, 11401.89, NULL, True ), -- stock_id: 8\n",
      "(7, 2.0, 1, 8986.38, 11232.97, NULL, True ), -- stock_id: 9\n",
      "(8, 1.2, 1, 6736.53, 8420.66, NULL, True ), -- stock_id: 10\n",
      "(9, 1.3, 1, 600.78, 750.97, 'Owned by Stan Lee', True ), -- stock_id: 11\n",
      "(9, 0.5, 1, 1932.36, 2415.45, NULL, True ), -- stock_id: 12\n",
      "(10, 3.0, 1, 1341.74, 1677.17, 'Owned by Tony Stark', True ), -- stock_id: 13\n",
      "(11, 10.1, 1, 2550.64, 3188.30, NULL, True ), -- stock_id: 14\n",
      "(11, 1.1, 1, 9442.03, 11802.54, 'Signed by Tony Stark', True ), -- stock_id: 15\n",
      "(12, 5.0, 1, 4087.74, 5109.67, NULL, True ), -- stock_id: 16\n",
      "(13, 8.9, 1, 4610.50, 5763.12, 'Signed by Tony Stark', True ), -- stock_id: 17\n",
      "(13, 1.3, 1, 7019.78, 8774.73, NULL, True ), -- stock_id: 18\n",
      "(14, 2.9, 1, 3970.14, 4962.68, NULL, True ), -- stock_id: 19\n",
      "(14, 6.2, 1, 9078.98, 11348.72, 'Owned by Stan Lee', True ), -- stock_id: 20\n",
      "(15, 4.9, 1, 7924.99, 9906.24, NULL, True ), -- stock_id: 21\n",
      "(16, 6.1, 1, 9164.19, 11455.24, 'Owned by Tony Stark', True ), -- stock_id: 22\n",
      "(17, 9.5, 1, 5265.84, 6582.30, NULL, True ), -- stock_id: 23\n",
      "(18, 9.1, 1, 3051.89, 3814.86, NULL, True ), -- stock_id: 24\n",
      "(19, 7.8, 1, 4587.23, 5734.04, NULL, True ), -- stock_id: 25\n",
      "(20, 2.0, 1, 6778.95, 8473.69, NULL, True ), -- stock_id: 26\n",
      "(21, 6.5, 1, 8429.73, 10537.16, 'Owned by Tony Stark', True ), -- stock_id: 27\n",
      "(22, 3.2, 1, 4428.73, 5535.91, NULL, True ), -- stock_id: 28\n"
     ]
    }
   ],
   "source": [
    "from random import random\n",
    "import numpy as np\n",
    "# collectable_id, condition, edition, buying_price, selling_price, comment, in_stock\n",
    "\n",
    "people = [\"Stan Lee\", \"Tony Stark\", \"Hulk\", \"Superman\", \"Batman\", \"Mario\", \"Dexter\"]\n",
    "options = [\"Owned\", \"Signed\"]\n",
    "\n",
    "\n",
    "chance_repeat = 0.5\n",
    "i = 1\n",
    "j = 1\n",
    "# create variable condition which is random float between 0 and 10.1 with one decimal\n",
    "\n",
    "\n",
    "while i < 23:\n",
    "    comment = \"'%s by %s'\" % (options[np.random.randint(\n",
    "        0, 2)], people[np.random.randint(0, len(options))]) if random() < 0.25 else \"NULL\"\n",
    "    buying_price = round(np.random.uniform(0, 10000, 2)[0], 2)\n",
    "    print(\"(%i, %0.1f, %i, %0.2f, %0.2f, %s, %s ), -- stock_id: %i\" % (i, round(np.random.uniform(0, 10.1, 1)[0], 1),\n",
    "                                        1, buying_price,\n",
    "                                          buying_price * 1.25,\n",
    "                                                   comment, \"True\", j), )\n",
    "    if random() < chance_repeat:\n",
    "        chance_repeat -= 0.075\n",
    "        i -= 1\n",
    "\n",
    "    i += 1\n",
    "    j += 1"
   ]
  },
  {
   "cell_type": "code",
   "execution_count": 33,
   "metadata": {},
   "outputs": [
    {
     "data": {
      "text/plain": [
       "653108.33"
      ]
     },
     "execution_count": 33,
     "metadata": {},
     "output_type": "execute_result"
    }
   ],
   "source": [
    "round(np.random.uniform(0, 1000000, 2)[0], 2)\n"
   ]
  }
 ],
 "metadata": {
  "kernelspec": {
   "display_name": "Python 3",
   "language": "python",
   "name": "python3"
  },
  "language_info": {
   "codemirror_mode": {
    "name": "ipython",
    "version": 3
   },
   "file_extension": ".py",
   "mimetype": "text/x-python",
   "name": "python",
   "nbconvert_exporter": "python",
   "pygments_lexer": "ipython3",
   "version": "3.10.7"
  },
  "orig_nbformat": 4
 },
 "nbformat": 4,
 "nbformat_minor": 2
}
